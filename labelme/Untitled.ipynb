{
 "cells": [
  {
   "cell_type": "code",
   "execution_count": null,
   "metadata": {},
   "outputs": [],
   "source": [
    "import os\n",
    "import sys"
   ]
  },
  {
   "cell_type": "code",
   "execution_count": null,
   "metadata": {},
   "outputs": [],
   "source": [
    "# Root directory of the project\n",
    "ROOT_DIR = os.path.abspath(\".\")"
   ]
  },
  {
   "cell_type": "code",
   "execution_count": null,
   "metadata": {},
   "outputs": [],
   "source": [
    "sys.path.append('/home/israel/repos/Mask_RCNN/samples')  "
   ]
  },
  {
   "cell_type": "code",
   "execution_count": null,
   "metadata": {},
   "outputs": [],
   "source": [
    "from testfile import predict"
   ]
  },
  {
   "cell_type": "code",
   "execution_count": null,
   "metadata": {},
   "outputs": [],
   "source": [
    "model = predict()"
   ]
  },
  {
   "cell_type": "code",
   "execution_count": null,
   "metadata": {},
   "outputs": [],
   "source": [
    "model.inference()"
   ]
  },
  {
   "cell_type": "markdown",
   "metadata": {},
   "source": [
    "# Detectron2"
   ]
  },
  {
   "cell_type": "code",
   "execution_count": null,
   "metadata": {},
   "outputs": [],
   "source": [
    "import os\n",
    "import sys\n",
    "sys.executable"
   ]
  },
  {
   "cell_type": "code",
   "execution_count": null,
   "metadata": {},
   "outputs": [],
   "source": [
    "sys.path.append('/home/israel/repos/detectron2/demo/')  "
   ]
  },
  {
   "cell_type": "code",
   "execution_count": null,
   "metadata": {},
   "outputs": [],
   "source": [
    "from predictor import VisualizationDemo"
   ]
  },
  {
   "cell_type": "code",
   "execution_count": null,
   "metadata": {},
   "outputs": [],
   "source": [
    "model = VisualizationDemo(cfg)"
   ]
  },
  {
   "cell_type": "code",
   "execution_count": null,
   "metadata": {},
   "outputs": [],
   "source": [
    "predictions, vis_output = model.run_on_image(im)"
   ]
  },
  {
   "cell_type": "code",
   "execution_count": null,
   "metadata": {},
   "outputs": [],
   "source": [
    "predictions['instances'].pred_masks"
   ]
  },
  {
   "cell_type": "code",
   "execution_count": 42,
   "metadata": {},
   "outputs": [
    {
     "data": {
      "text/plain": [
       "<Logger detectron2 (DEBUG)>"
      ]
     },
     "execution_count": 42,
     "metadata": {},
     "output_type": "execute_result"
    }
   ],
   "source": [
    "import detectron2\n",
    "from detectron2.utils.logger import setup_logger\n",
    "setup_logger()"
   ]
  },
  {
   "cell_type": "code",
   "execution_count": 43,
   "metadata": {},
   "outputs": [],
   "source": [
    "import numpy as np\n",
    "import cv2\n",
    "import random"
   ]
  },
  {
   "cell_type": "code",
   "execution_count": 44,
   "metadata": {},
   "outputs": [],
   "source": [
    "from detectron2.engine import DefaultPredictor\n",
    "from detectron2.config import get_cfg\n",
    "from detectron2.utils.visualizer import Visualizer\n",
    "from detectron2.data import MetadataCatalog\n",
    "im = cv2.imread(\"/home/israel/repos/labelme/examples/test/2011_000025.jpg\")\n",
    "\n",
    "cfg = get_cfg()\n",
    "cfg.merge_from_file(\"/home/israel/repos/detectron2/configs/COCO-InstanceSegmentation/mask_rcnn_R_50_FPN_3x.yaml\")\n",
    "cfg.MODEL.ROI_HEADS.SCORE_THRESH_TEST = 0.5 # set threshold for this model"
   ]
  },
  {
   "cell_type": "code",
   "execution_count": 45,
   "metadata": {},
   "outputs": [],
   "source": [
    "cfg.MODEL.WEIGHTS = \"detectron2://COCO-InstanceSegmentation/mask_rcnn_R_50_FPN_3x/137849600/model_final_f10217.pkl\"\n",
    "cfg.MODEL.DEVICE='cpu'\n",
    "predictor = DefaultPredictor(cfg)\n",
    "outputs = predictor(im)"
   ]
  },
  {
   "cell_type": "code",
   "execution_count": 55,
   "metadata": {},
   "outputs": [],
   "source": [
    "class_names = MetadataCatalog.get(cfg.DATASETS.TRAIN[0]).thing_classes"
   ]
  },
  {
   "cell_type": "code",
   "execution_count": 49,
   "metadata": {},
   "outputs": [],
   "source": [
    "masks = outputs['instances'].pred_masks.to('cpu').numpy()\n",
    "labels = outputs['instances'].pred_classes.to('cpu').numpy()"
   ]
  },
  {
   "cell_type": "code",
   "execution_count": 58,
   "metadata": {},
   "outputs": [],
   "source": [
    "shapes = []\n",
    "for i, label in enumerate(labels):\n",
    "    Mask(mask[0]).polygons()\n",
    "    polygons = Mask(mask[i]).polygons()\n",
    "    points = polygons.points[0][::5]\n",
    "    points = list(map(tuple, points.astype('float')))\n",
    "    instance = {'label': class_names[label],\n",
    "                'points': points,\n",
    "                'group_id': None,\n",
    "                'shape_type': 'polygon',\n",
    "                'flags': {}}\n",
    "    shapes.append(instance)"
   ]
  },
  {
   "cell_type": "code",
   "execution_count": 59,
   "metadata": {
    "scrolled": true
   },
   "outputs": [
    {
     "data": {
      "text/plain": [
       "[{'label': 'bus',\n",
       "  'points': [(4.0, 99.0),\n",
       "   (0.0, 108.0),\n",
       "   (0.0, 243.0),\n",
       "   (3.0, 267.0),\n",
       "   (5.0, 281.0),\n",
       "   (10.0, 279.0),\n",
       "   (18.0, 276.0),\n",
       "   (34.0, 280.0),\n",
       "   (50.0, 281.0),\n",
       "   (63.0, 280.0),\n",
       "   (69.0, 277.0),\n",
       "   (76.0, 270.0),\n",
       "   (79.0, 263.0),\n",
       "   (82.0, 256.0),\n",
       "   (84.0, 251.0),\n",
       "   (87.0, 245.0),\n",
       "   (89.0, 238.0),\n",
       "   (92.0, 230.0),\n",
       "   (94.0, 224.0),\n",
       "   (98.0, 211.0),\n",
       "   (96.0, 172.0),\n",
       "   (93.0, 162.0),\n",
       "   (91.0, 148.0),\n",
       "   (87.0, 142.0),\n",
       "   (85.0, 134.0),\n",
       "   (82.0, 118.0),\n",
       "   (74.0, 112.0),\n",
       "   (63.0, 109.0),\n",
       "   (52.0, 107.0),\n",
       "   (33.0, 104.0),\n",
       "   (23.0, 102.0)],\n",
       "  'group_id': None,\n",
       "  'shape_type': 'polygon',\n",
       "  'flags': {}},\n",
       " {'label': 'bus',\n",
       "  'points': [(168.0, 27.0),\n",
       "   (156.0, 30.0),\n",
       "   (151.0, 32.0),\n",
       "   (144.0, 37.0),\n",
       "   (138.0, 39.0),\n",
       "   (125.0, 50.0),\n",
       "   (120.0, 54.0),\n",
       "   (116.0, 62.0),\n",
       "   (114.0, 67.0),\n",
       "   (110.0, 74.0),\n",
       "   (108.0, 83.0),\n",
       "   (105.0, 91.0),\n",
       "   (101.0, 98.0),\n",
       "   (97.0, 105.0),\n",
       "   (97.0, 142.0),\n",
       "   (100.0, 161.0),\n",
       "   (100.0, 198.0),\n",
       "   (99.0, 221.0),\n",
       "   (97.0, 230.0),\n",
       "   (96.0, 323.0),\n",
       "   (98.0, 338.0),\n",
       "   (103.0, 345.0),\n",
       "   (108.0, 351.0),\n",
       "   (122.0, 355.0),\n",
       "   (149.0, 353.0),\n",
       "   (159.0, 350.0),\n",
       "   (166.0, 348.0),\n",
       "   (173.0, 345.0),\n",
       "   (188.0, 343.0),\n",
       "   (243.0, 344.0),\n",
       "   (303.0, 342.0),\n",
       "   (326.0, 339.0),\n",
       "   (347.0, 341.0),\n",
       "   (364.0, 344.0),\n",
       "   (396.0, 344.0),\n",
       "   (406.0, 339.0),\n",
       "   (412.0, 334.0),\n",
       "   (419.0, 325.0),\n",
       "   (421.0, 316.0),\n",
       "   (422.0, 300.0),\n",
       "   (424.0, 269.0),\n",
       "   (425.0, 252.0),\n",
       "   (423.0, 244.0),\n",
       "   (420.0, 238.0),\n",
       "   (418.0, 227.0),\n",
       "   (415.0, 219.0),\n",
       "   (413.0, 214.0),\n",
       "   (410.0, 209.0),\n",
       "   (412.0, 150.0),\n",
       "   (415.0, 144.0),\n",
       "   (417.0, 130.0),\n",
       "   (416.0, 106.0),\n",
       "   (413.0, 98.0),\n",
       "   (408.0, 90.0),\n",
       "   (406.0, 83.0),\n",
       "   (402.0, 76.0),\n",
       "   (397.0, 67.0),\n",
       "   (394.0, 57.0),\n",
       "   (392.0, 51.0),\n",
       "   (379.0, 38.0),\n",
       "   (374.0, 36.0),\n",
       "   (365.0, 29.0)],\n",
       "  'group_id': None,\n",
       "  'shape_type': 'polygon',\n",
       "  'flags': {}},\n",
       " {'label': 'car',\n",
       "  'points': [(418.0, 172.0),\n",
       "   (411.0, 176.0),\n",
       "   (409.0, 220.0),\n",
       "   (412.0, 225.0),\n",
       "   (417.0, 228.0),\n",
       "   (422.0, 230.0),\n",
       "   (428.0, 239.0),\n",
       "   (430.0, 251.0),\n",
       "   (449.0, 252.0),\n",
       "   (468.0, 251.0),\n",
       "   (485.0, 253.0),\n",
       "   (498.0, 173.0)],\n",
       "  'group_id': None,\n",
       "  'shape_type': 'polygon',\n",
       "  'flags': {}},\n",
       " {'label': 'truck',\n",
       "  'points': [(416.0, 170.0),\n",
       "   (411.0, 175.0),\n",
       "   (409.0, 222.0),\n",
       "   (414.0, 226.0),\n",
       "   (419.0, 229.0),\n",
       "   (426.0, 235.0),\n",
       "   (429.0, 242.0),\n",
       "   (443.0, 253.0),\n",
       "   (460.0, 252.0),\n",
       "   (469.0, 252.0),\n",
       "   (481.0, 253.0),\n",
       "   (498.0, 171.0)],\n",
       "  'group_id': None,\n",
       "  'shape_type': 'polygon',\n",
       "  'flags': {}}]"
      ]
     },
     "execution_count": 59,
     "metadata": {},
     "output_type": "execute_result"
    }
   ],
   "source": [
    "shapes"
   ]
  },
  {
   "cell_type": "code",
   "execution_count": null,
   "metadata": {},
   "outputs": [],
   "source": [
    "plt.imshow(mask[0])\n",
    "plt.show()"
   ]
  },
  {
   "cell_type": "code",
   "execution_count": null,
   "metadata": {},
   "outputs": [],
   "source": [
    "v = Visualizer(im[:, :, ::-1], MetadataCatalog.get(cfg.DATASETS.TRAIN[0]), scale=1.2)\n",
    "v = v.draw_instance_predictions(outputs[\"instances\"].to(\"cpu\"))\n",
    "cv2.imwrite('output.png',v.get_image()[:, :, ::-1])"
   ]
  },
  {
   "cell_type": "code",
   "execution_count": 23,
   "metadata": {},
   "outputs": [],
   "source": [
    "import matplotlib.pyplot as plt\n",
    "import numpy as np\n",
    "from imantics import Polygons, Mask\n",
    "import cv2"
   ]
  },
  {
   "cell_type": "code",
   "execution_count": null,
   "metadata": {},
   "outputs": [],
   "source": [
    "# This can be any array\n",
    "array = mask[0]\n",
    "\n",
    "polygons = Mask(array).polygons()\n",
    "\n",
    "pol = cv2.polylines(im.copy(), [polygons.points[0][::2]], True, (0,255,0), 2)\n",
    "plt.figure(figsize=(30,30))\n",
    "plt.imshow(pol)\n",
    "plt.show()"
   ]
  },
  {
   "cell_type": "code",
   "execution_count": 1,
   "metadata": {},
   "outputs": [],
   "source": [
    "from predict import predict"
   ]
  },
  {
   "cell_type": "code",
   "execution_count": 2,
   "metadata": {},
   "outputs": [],
   "source": [
    "model = predict()"
   ]
  },
  {
   "cell_type": "code",
   "execution_count": 4,
   "metadata": {},
   "outputs": [],
   "source": [
    "shape = model.inference('test')"
   ]
  },
  {
   "cell_type": "code",
   "execution_count": 41,
   "metadata": {},
   "outputs": [
    {
     "data": {
      "text/plain": [
       "350.0"
      ]
     },
     "execution_count": 41,
     "metadata": {},
     "output_type": "execute_result"
    }
   ],
   "source": [
    "(list(map(tuple, shape.astype('float')))[0][0])"
   ]
  },
  {
   "cell_type": "code",
   "execution_count": 8,
   "metadata": {},
   "outputs": [],
   "source": [
    "former = [(152.53456221198158, 70.35483870967742), (108.7557603686636, 176.80645161290323), (270.5069124423963, 154.68663594470047)]"
   ]
  },
  {
   "cell_type": "code",
   "execution_count": 37,
   "metadata": {},
   "outputs": [
    {
     "data": {
      "text/plain": [
       "float"
      ]
     },
     "execution_count": 37,
     "metadata": {},
     "output_type": "execute_result"
    }
   ],
   "source": [
    "type(former[0][0])"
   ]
  },
  {
   "cell_type": "code",
   "execution_count": null,
   "metadata": {},
   "outputs": [],
   "source": []
  }
 ],
 "metadata": {
  "kernelspec": {
   "display_name": "Python 3",
   "language": "python",
   "name": "python3"
  },
  "language_info": {
   "codemirror_mode": {
    "name": "ipython",
    "version": 3
   },
   "file_extension": ".py",
   "mimetype": "text/x-python",
   "name": "python",
   "nbconvert_exporter": "python",
   "pygments_lexer": "ipython3",
   "version": "3.8.2"
  }
 },
 "nbformat": 4,
 "nbformat_minor": 4
}
